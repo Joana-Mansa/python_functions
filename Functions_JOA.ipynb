{
 "cells": [
  {
   "cell_type": "markdown",
   "id": "352dd2e3",
   "metadata": {},
   "source": [
    "### Q1\n",
    "\n",
    "Define a python function that calculate the perimeter of the rectangle\n",
    "\n",
    "Formular\n",
    "\n",
    "formular => 2 X length + 2 X Width"
   ]
  },
  {
   "cell_type": "code",
   "execution_count": 1,
   "id": "4141f1e7",
   "metadata": {},
   "outputs": [],
   "source": [
    "def peri_rect(length, width):\n",
    "    return 2*length + 2*width"
   ]
  },
  {
   "cell_type": "markdown",
   "id": "a56ccec8",
   "metadata": {},
   "source": [
    "### Q2\n",
    "Define the function to calculate the area of a circle. Round the answer to 3 decimal places.\n",
    "\n",
    "**Preamble**\n",
    " - Take pi as 22/7\n",
    " - formular pi x r ** 2"
   ]
  },
  {
   "cell_type": "code",
   "execution_count": 2,
   "id": "90ffbb65",
   "metadata": {},
   "outputs": [],
   "source": [
    "# i set the value of pi to 22/7\n",
    "def area_circle(r, pi=22/7):\n",
    "    area = pi* r **2\n",
    "    # rounds the number\n",
    "    return round(area, 3)\n"
   ]
  },
  {
   "cell_type": "markdown",
   "id": "be5a6965",
   "metadata": {},
   "source": [
    "### Q3\n",
    "Define a function that takes a list of numbers and print out the **mean**, **median** and **mode**.\n",
    "\n",
    "- Test your function with the list b\n",
    "\n",
    "`b = [2,3,4,6,7,3,4,3,2,1,3]`"
   ]
  },
  {
   "cell_type": "code",
   "execution_count": 3,
   "id": "86f719eb",
   "metadata": {},
   "outputs": [],
   "source": [
    "# function that takes a list of numbers\n",
    "# prints out the mean, median and mode\n",
    "\n",
    "# statistics library \n",
    "# has objects for finding statistical parameters\n",
    "\n",
    "import statistics as st\n",
    "user = []\n",
    "\n",
    "def stats(user):\n",
    "    mean = round(st.mean(user), 2)\n",
    "    median = st.median(user)\n",
    "    mode = st.mode(user)\n",
    "    \n",
    "    print(f'Mean: {mean}\\n Median: {median} \\n Mode: {mode}')\n",
    "    return"
   ]
  },
  {
   "cell_type": "code",
   "execution_count": 4,
   "id": "6e64be51",
   "metadata": {},
   "outputs": [
    {
     "name": "stdout",
     "output_type": "stream",
     "text": [
      "Mean: 3.45\n",
      " Median: 3 \n",
      " Mode: 3\n"
     ]
    }
   ],
   "source": [
    "b = [2,3,4,6,7,3,4,3,2,1,3]\n",
    "stats(b)"
   ]
  },
  {
   "cell_type": "markdown",
   "id": "3313ab10",
   "metadata": {},
   "source": [
    "### Q4\n",
    "Define a function that prints out the list of the first 20 prime numbers"
   ]
  },
  {
   "cell_type": "code",
   "execution_count": 5,
   "id": "366e10df",
   "metadata": {},
   "outputs": [
    {
     "name": "stdout",
     "output_type": "stream",
     "text": [
      "Enter N for the number of prime numbers: 20\n",
      "The first 20 prime numbers are: [2, 3, 5, 7, 11, 13, 17, 19, 23, 29, 31, 37, 41, 43, 47, 53, 59, 61, 67, 71]\n"
     ]
    }
   ],
   "source": [
    "# function\n",
    "# prints out the first 20 prime numbers\n",
    "\n",
    "# accepts an input from the user\n",
    "# representing their desired number of prime numbers\n",
    "\n",
    "N = int(input(\"Enter N for the number of prime numbers: \"))\n",
    "\n",
    "# set i to 2\n",
    "# since one is not a prime number\n",
    "i = 2\n",
    "\n",
    "# creates an empty list lst\n",
    "lst = []\n",
    "\n",
    "# defines a function primus\n",
    "def primus(n):\n",
    "    \n",
    "    for i in range(2, n//2 + 1):\n",
    "        if (n% i ==0):\n",
    "            return(0)\n",
    "    return (1)\n",
    "\n",
    "while(1):\n",
    "    if primus(i):\n",
    "        lst.append(i)\n",
    "        if(len(lst)==N):\n",
    "            break\n",
    "    i +=1\n",
    "print(f'The first {N} prime numbers are: {lst}')\n"
   ]
  },
  {
   "cell_type": "markdown",
   "id": "ef1c5863",
   "metadata": {},
   "source": [
    "#### Q5\n",
    "Define a function that takes a list of strings and print out the string and the length of the string.\n",
    "\n",
    "**Example of expected output**\n",
    "\n",
    "{\"Kofi\":4,\n",
    "\"Ama\":3,\n",
    "\"Sedem\":5}"
   ]
  },
  {
   "cell_type": "code",
   "execution_count": 6,
   "id": "29debbdd",
   "metadata": {},
   "outputs": [],
   "source": [
    "# takes a list of strings\n",
    "# prints out the string\n",
    "# prints out the length of the string\n",
    "\n",
    "# creates an empty list\n",
    "lst = []\n",
    "\n",
    "# creates an empty dictionary\n",
    "dicty = {}\n",
    "\n",
    "# defines a function stringy\n",
    "def stringy(lst):\n",
    "    # loops over the items in the list\n",
    "    for i in lst:\n",
    "        \n",
    "        # the x variable finds the length of the list\n",
    "        x = len(i)\n",
    "        \n",
    "        # updates the dictionary created\n",
    "        dicty.update({i:x})\n",
    "        \n",
    "    return dicty\n",
    "\n",
    "    \n",
    "    "
   ]
  },
  {
   "cell_type": "code",
   "execution_count": 7,
   "id": "d5581183",
   "metadata": {},
   "outputs": [
    {
     "data": {
      "text/plain": [
       "{'Kofi': 4, 'Ama': 3, 'Esi': 3}"
      ]
     },
     "execution_count": 7,
     "metadata": {},
     "output_type": "execute_result"
    }
   ],
   "source": [
    "# testing the code\n",
    "\n",
    "strung = ['Kofi', 'Ama', 'Esi']\n",
    "stringy(strung)"
   ]
  },
  {
   "cell_type": "markdown",
   "id": "5072c8d8",
   "metadata": {},
   "source": [
    "### Q6\n",
    "Define a function that takes a list of strings and numbers and print out only the strings and the position of the strings.\n",
    "\n",
    "**Preamble**\n",
    "\n",
    "names = ['sedem', 'Kofi', 'kobla']\n",
    "\n",
    "**Expected Output**\n",
    "\n",
    "{'sedem': P0, 'Kofi': P1, 'kobla': P2}"
   ]
  },
  {
   "cell_type": "code",
   "execution_count": 8,
   "id": "4b540d2c",
   "metadata": {},
   "outputs": [],
   "source": [
    "# creates a function that takes a list of strings\n",
    "# prints out only the strings and their position\n",
    "\n",
    "lst_1 = []\n",
    "dicty_1 = {}\n",
    "\n",
    "def just_string(lst_1):\n",
    "    for index, value in enumerate(lst_1):\n",
    "        if type(value) ==str:\n",
    "            dicty_1.update({value:index})\n",
    "        \n",
    "    return dicty_1\n",
    "    \n",
    "        "
   ]
  },
  {
   "cell_type": "code",
   "execution_count": 9,
   "id": "28327ee0",
   "metadata": {},
   "outputs": [
    {
     "data": {
      "text/plain": [
       "{'sedem': 0, 'Kofi': 2, 'kobla': 3}"
      ]
     },
     "execution_count": 9,
     "metadata": {},
     "output_type": "execute_result"
    }
   ],
   "source": [
    "names = ['sedem', 61,  'Kofi', 'kobla', 45]\n",
    "just_string(names)"
   ]
  },
  {
   "cell_type": "markdown",
   "id": "5593b665",
   "metadata": {},
   "source": [
    "### Q7\n",
    "Define a function that returns whether the sum of a person age and person's date of birth equals 2023\n",
    "\n",
    "**Preamble**\n",
    "\n",
    "2001 + 22 => True\n",
    "\n",
    "2002 + 5 => False"
   ]
  },
  {
   "cell_type": "code",
   "execution_count": 10,
   "id": "a650f888",
   "metadata": {},
   "outputs": [
    {
     "name": "stdout",
     "output_type": "stream",
     "text": [
      "Kindly input your age here: 23\n",
      "What is your year of birth: 1997\n",
      "23 + 1997 => False\n"
     ]
    }
   ],
   "source": [
    "# takes user's age and birth year\n",
    "# sums it to see if it's equal to the current year 2023\n",
    "age = int(input('Kindly input your age here: '))\n",
    "birth_year = int(input('What is your year of birth: '))\n",
    "\n",
    "def age_checker(age, birth_year):\n",
    "    print(f'{age} + {birth_year} => {age + birth_year == 2023}')\n",
    "    \n",
    "age_checker(age, birth_year)"
   ]
  },
  {
   "cell_type": "markdown",
   "id": "f831e652",
   "metadata": {},
   "source": [
    "### Q8\n",
    "Define a function that determine whether a particular year is a **decade**, the output should be a boolean (True or False)\n"
   ]
  },
  {
   "cell_type": "code",
   "execution_count": 11,
   "id": "83cb779a",
   "metadata": {},
   "outputs": [
    {
     "name": "stdout",
     "output_type": "stream",
     "text": [
      "Enter the year under scrutiny: 2044\n",
      "False\n"
     ]
    }
   ],
   "source": [
    "# function determines where a particular year \n",
    "# is a decade\n",
    "early= int(input('Enter the year under scrutiny: '))\n",
    "\n",
    "# function prints False if the year is not a decade\n",
    "# prints true if the year is a decade\n",
    "def decado(early):\n",
    "    if early % 10 == 0:\n",
    "        print(True)\n",
    "    else:\n",
    "        print(False)\n",
    "decado(early)\n",
    "    "
   ]
  },
  {
   "cell_type": "markdown",
   "id": "211c19e3",
   "metadata": {},
   "source": [
    "### Q9\n",
    "Define a function that contains a list of strings and punctuations,the output should on return the list of punctuations.\n"
   ]
  },
  {
   "cell_type": "code",
   "execution_count": 12,
   "id": "d1f192f9",
   "metadata": {},
   "outputs": [],
   "source": [
    "# takes a list of strings and punctuations\n",
    "# output returns only the punctuations\n",
    "\n",
    "lst_2 = []\n",
    "lst = []\n",
    "def punctuations(lst):\n",
    "    for item in lst:\n",
    "        if not item.isalpha():\n",
    "            lst_2.append(item)\n",
    "    return lst_2"
   ]
  },
  {
   "cell_type": "code",
   "execution_count": 13,
   "id": "50f3a9d5",
   "metadata": {},
   "outputs": [
    {
     "data": {
      "text/plain": [
       "['-', '@']"
      ]
     },
     "execution_count": 13,
     "metadata": {},
     "output_type": "execute_result"
    }
   ],
   "source": [
    "leest = ['Joana', '-', 'Mansa', '@', 'Github']\n",
    "punctuations(leest)"
   ]
  },
  {
   "cell_type": "markdown",
   "id": "34bae9ec",
   "metadata": {},
   "source": [
    "### Q10\n",
    "\n",
    "Define a lambda function that print out the cubic root of a list of numbers"
   ]
  },
  {
   "cell_type": "code",
   "execution_count": 14,
   "id": "1840d15d",
   "metadata": {},
   "outputs": [
    {
     "data": {
      "text/plain": [
       "[2.0, 2.08, 3.0, 3.36]"
      ]
     },
     "execution_count": 14,
     "metadata": {},
     "output_type": "execute_result"
    }
   ],
   "source": [
    "# lambda function\n",
    "# prints out the cubic root of numbers\n",
    "\n",
    "numbers = [8, 9, 27,38]\n",
    "cubic_root = lambda numbers: [round(x**(1/3), 2) for x in numbers]\n",
    "cubic_root(numbers)\n"
   ]
  },
  {
   "cell_type": "markdown",
   "id": "37974632",
   "metadata": {},
   "source": [
    "### Q11\n",
    "Define a lambda function that print out the cube of a list of numbers"
   ]
  },
  {
   "cell_type": "code",
   "execution_count": 15,
   "id": "a9033f0c",
   "metadata": {},
   "outputs": [
    {
     "data": {
      "text/plain": [
       "[512, 729, 19683, 54872]"
      ]
     },
     "execution_count": 15,
     "metadata": {},
     "output_type": "execute_result"
    }
   ],
   "source": [
    "# function prints out the cube of the numbers\n",
    "numbers = [8, 9, 27,38]\n",
    "cubic_root = lambda numbers: [x**3 for x in numbers]\n",
    "cubic_root(numbers)"
   ]
  },
  {
   "cell_type": "markdown",
   "id": "b1522dbb",
   "metadata": {},
   "source": [
    "### Q12\n",
    "Define a function that take a list of list of numbers and return a list that contains the average of each sublist using map."
   ]
  },
  {
   "cell_type": "code",
   "execution_count": 16,
   "id": "d87cc93b",
   "metadata": {},
   "outputs": [
    {
     "data": {
      "text/plain": [
       "[3.0, 6.0, 9.0]"
      ]
     },
     "execution_count": 16,
     "metadata": {},
     "output_type": "execute_result"
    }
   ],
   "source": [
    "# define a function\n",
    "# takes a list\n",
    "# returns a list that contains the averages of each sublist\n",
    "\n",
    "numbers = [[2,3,4],[5,6,7],[8,9,10]]\n",
    "\n",
    "def average(var):\n",
    "    mean = sum(var)/len(var)\n",
    "    return mean\n",
    "\n",
    "mapping = list(map(average,numbers))\n",
    "mapping"
   ]
  },
  {
   "cell_type": "markdown",
   "id": "0fd5cd06",
   "metadata": {},
   "source": [
    "### Q13\n",
    "Define a function that takes a list of strings and filter out strings that are upper case."
   ]
  },
  {
   "cell_type": "code",
   "execution_count": 17,
   "id": "9f247b57",
   "metadata": {},
   "outputs": [],
   "source": [
    "# function takes a list of strings\n",
    "# returns the uppercase\n",
    "arg = []\n",
    "capital = []\n",
    "\n",
    "def up(arg):\n",
    "    for i in arg:\n",
    "        if i.isupper():\n",
    "            capital.append(i)\n",
    "    return capital"
   ]
  },
  {
   "cell_type": "code",
   "execution_count": 18,
   "id": "a0162cef",
   "metadata": {},
   "outputs": [
    {
     "data": {
      "text/plain": [
       "['JOANA', 'ADEH']"
      ]
     },
     "execution_count": 18,
     "metadata": {},
     "output_type": "execute_result"
    }
   ],
   "source": [
    "struug = ['JOANA', 'Blossom', 'ADEH', 'Guraazee']\n",
    "up(struug)"
   ]
  },
  {
   "cell_type": "markdown",
   "id": "d0dddd17",
   "metadata": {},
   "source": [
    "### Q14\n",
    "Define a function that takes a list of numbers and print out the numbers which are prime in the list."
   ]
  },
  {
   "cell_type": "code",
   "execution_count": 19,
   "id": "d4163161",
   "metadata": {},
   "outputs": [],
   "source": [
    "# takes a list of numbers\n",
    "# prints out the prime numbers\n",
    "\n",
    "prime_list = []\n",
    "lst_3 = []\n",
    "def prime_checker(lst_3):\n",
    "    for num in lst_3:\n",
    "        \n",
    "        for i in range(2,num):\n",
    "            if num % i == 0:\n",
    "                break\n",
    "        else:\n",
    "            prime_list.append(num)\n",
    "    return prime_list\n"
   ]
  },
  {
   "cell_type": "code",
   "execution_count": 20,
   "id": "249e4c4e",
   "metadata": {},
   "outputs": [
    {
     "data": {
      "text/plain": [
       "[2, 3, 5, 7, 11, 13, 17, 19, 23, 29, 31, 37, 41, 43, 47]"
      ]
     },
     "execution_count": 20,
     "metadata": {},
     "output_type": "execute_result"
    }
   ],
   "source": [
    "prime_checker(range(2, 50))"
   ]
  },
  {
   "cell_type": "markdown",
   "id": "240741dc",
   "metadata": {},
   "source": [
    "### Q15\n",
    "Define a function that take a list of strings and return a zip of each string and length of a string."
   ]
  },
  {
   "cell_type": "code",
   "execution_count": 21,
   "id": "84e7c3b0",
   "metadata": {},
   "outputs": [],
   "source": [
    "# function takes a list of strings and returns a zip\n",
    "# returns a zip of each string and length of the string\n",
    "lst = []\n",
    "\n",
    "def string_count_zipper(lst):\n",
    "    zipped =  zip(lst,map(len,lst))\n",
    "    for zips in zipped:\n",
    "        print(zips)\n"
   ]
  },
  {
   "cell_type": "code",
   "execution_count": 22,
   "id": "f8fcb422",
   "metadata": {},
   "outputs": [
    {
     "name": "stdout",
     "output_type": "stream",
     "text": [
      "('I', 1)\n",
      "('Am', 2)\n",
      "('Using', 5)\n",
      "('Python', 6)\n",
      "('Programming', 11)\n",
      "('Language', 8)\n"
     ]
    }
   ],
   "source": [
    "strings = [\"I\", \"Am\", \"Using\", \"Python\", \"Programming\", \"Language\"]\n",
    "string_count_zipper(strings)"
   ]
  },
  {
   "cell_type": "markdown",
   "id": "44a1339f",
   "metadata": {},
   "source": [
    "### Q16\n",
    "Define a function that takes in a number and return the first 12 multiples of the the number.\n",
    "\n",
    "Expected Output\n",
    "\n",
    "2 X 1 = 2\n",
    "\n",
    "to\n",
    "\n",
    "2 X 12 = 24"
   ]
  },
  {
   "cell_type": "code",
   "execution_count": 23,
   "id": "b0498f10",
   "metadata": {},
   "outputs": [
    {
     "name": "stdout",
     "output_type": "stream",
     "text": [
      "Enter the number: 12\n",
      "12 x 1 = 12\n",
      "12 x 2 = 24\n",
      "12 x 3 = 36\n",
      "12 x 4 = 48\n",
      "12 x 5 = 60\n",
      "12 x 6 = 72\n",
      "12 x 7 = 84\n",
      "12 x 8 = 96\n",
      "12 x 9 = 108\n",
      "12 x 10 = 120\n",
      "12 x 11 = 132\n",
      "12 x 12 = 144\n"
     ]
    }
   ],
   "source": [
    "number = int(input('Enter the number: '))\n",
    "\n",
    "def timestable(number):\n",
    "    for i in range(1, 13):\n",
    "        print(f'{number} x {i} = {number * i}')\n",
    "timestable(number)"
   ]
  },
  {
   "cell_type": "markdown",
   "id": "cd63dd99",
   "metadata": {},
   "source": [
    "### Q17\n",
    "Write a Python function to find the maximum of three numbers.\n",
    "\n",
    "**Do not use the max function**"
   ]
  },
  {
   "cell_type": "code",
   "execution_count": 44,
   "id": "d1feb887",
   "metadata": {},
   "outputs": [
    {
     "name": "stdout",
     "output_type": "stream",
     "text": [
      "Enter first number: 7\n",
      "Enter first number: 4\n",
      "Enter first number: 2\n",
      "The maximum of the three entries is: 7\n"
     ]
    }
   ],
   "source": [
    "# function that finds the maximum of three numbers\n",
    "\n",
    "first = int(input(\"Enter first number: \"))\n",
    "second = int(input(\"Enter first number: \"))\n",
    "third = int(input(\"Enter first number: \"))\n",
    "ls = [first, second, third]\n",
    "\n",
    "def highest(first, second, third):\n",
    "    print(f'The maximum of the three entries is: {sorted(ls)[2]}')\n",
    "\n",
    "highest(first, second, third)   "
   ]
  },
  {
   "cell_type": "markdown",
   "id": "67520c0b",
   "metadata": {},
   "source": [
    "### Q18\n",
    "Write a Python function to multiply all the numbers in a list."
   ]
  },
  {
   "cell_type": "code",
   "execution_count": 51,
   "id": "c5e806bc",
   "metadata": {},
   "outputs": [],
   "source": [
    "# function to multiply all numbers in a list\n",
    "lst_5 = []\n",
    "\n",
    "def mult(lst_5):\n",
    "    for i in lst_5:\n",
    "        x = 1\n",
    "        x *= i\n",
    "    return x\n",
    "    "
   ]
  },
  {
   "cell_type": "code",
   "execution_count": 52,
   "id": "4b3b3bdd",
   "metadata": {},
   "outputs": [
    {
     "data": {
      "text/plain": [
       "10"
      ]
     },
     "execution_count": 52,
     "metadata": {},
     "output_type": "execute_result"
    }
   ],
   "source": [
    "lizz = [2, 6, 9, 10]\n",
    "mult(lizz)"
   ]
  },
  {
   "cell_type": "markdown",
   "id": "05891582",
   "metadata": {},
   "source": [
    "### Q19\n",
    "Write a Python program to reverse a string"
   ]
  },
  {
   "cell_type": "code",
   "execution_count": 53,
   "id": "3c9cf3dc",
   "metadata": {},
   "outputs": [
    {
     "name": "stdout",
     "output_type": "stream",
     "text": [
      "Enter any word of your choice: Joana\n",
      "anaoJ\n"
     ]
    }
   ],
   "source": [
    "# asks for input \n",
    "# reverses the word\n",
    "\n",
    "user = input('Enter any word of your choice: ')\n",
    "# steps one at a time backward till the zero index\n",
    "print(user[::-1])"
   ]
  },
  {
   "cell_type": "markdown",
   "id": "b9025ac8",
   "metadata": {},
   "source": [
    "### Q20\n",
    "Write a python function to return the length of a string."
   ]
  },
  {
   "cell_type": "code",
   "execution_count": 54,
   "id": "925fa982",
   "metadata": {},
   "outputs": [
    {
     "name": "stdout",
     "output_type": "stream",
     "text": [
      "7\n"
     ]
    }
   ],
   "source": [
    "# returns the length of a string\n",
    "def length(string):\n",
    "    print(len(string))\n",
    "    \n",
    "length(\"Blossom\")"
   ]
  },
  {
   "cell_type": "markdown",
   "id": "8d1ee176",
   "metadata": {},
   "source": [
    "Have a lovely coding weekend"
   ]
  }
 ],
 "metadata": {
  "kernelspec": {
   "display_name": "Python 3 (ipykernel)",
   "language": "python",
   "name": "python3"
  },
  "language_info": {
   "codemirror_mode": {
    "name": "ipython",
    "version": 3
   },
   "file_extension": ".py",
   "mimetype": "text/x-python",
   "name": "python",
   "nbconvert_exporter": "python",
   "pygments_lexer": "ipython3",
   "version": "3.9.13"
  }
 },
 "nbformat": 4,
 "nbformat_minor": 5
}
